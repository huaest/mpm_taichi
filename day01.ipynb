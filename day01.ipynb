{
 "cells": [
  {
   "cell_type": "code",
   "execution_count": null,
   "metadata": {},
   "outputs": [],
   "source": [
    "import numpy as np\n",
    "import taichi as ti\n",
    "import taichi.math as tm\n",
    "ti.init()"
   ]
  },
  {
   "cell_type": "code",
   "execution_count": null,
   "metadata": {},
   "outputs": [],
   "source": [
    "x = ti.field(float, ())\n",
    "y = ti.field(float, ())\n",
    "\n",
    "@ti.kernel\n",
    "def compute_y():\n",
    "    y[None] = ti.sin(x[None])"
   ]
  },
  {
   "cell_type": "code",
   "execution_count": null,
   "metadata": {},
   "outputs": [],
   "source": [
    "x = ti.field(dtype=ti.f32, shape=())\n",
    "y = ti.field(dtype=ti.f32, shape=())\n",
    "dy_dx = ti.field(dtype=ti.f32, shape=())\n",
    "\n",
    "@ti.kernel\n",
    "def compute_dy_dx():\n",
    "    dy_dx[None] = ti.cos(x[None])"
   ]
  },
  {
   "cell_type": "code",
   "execution_count": null,
   "metadata": {},
   "outputs": [],
   "source": [
    "x = ti.field(dtype=ti.f32, shape=(), needs_grad=True)\n",
    "y = ti.field(dtype=ti.f32, shape=(), needs_grad=True)\n",
    "\n",
    "@ti.kernel\n",
    "def compute_y():\n",
    "    y[None] = ti.sin(x[None])\n",
    "\n",
    "with ti.ad.Tape(y):\n",
    "    compute_y()\n",
    "\n",
    "print('dy/dx =', x.grad[None], ' at x =', x[None])"
   ]
  },
  {
   "cell_type": "code",
   "execution_count": null,
   "metadata": {},
   "outputs": [],
   "source": [
    "import taichi as ti\n",
    "\n",
    "N = 10\n",
    "M = 20\n",
    "\n",
    "ti.init()\n",
    "\n",
    "@ti.kernel\n",
    "def my_kernel():\n",
    "    for i, j in ti.ndrange(N, M):\n",
    "        print(i,j)\n",
    "\n",
    "my_kernel()\n"
   ]
  },
  {
   "cell_type": "code",
   "execution_count": 3,
   "metadata": {},
   "outputs": [
    {
     "name": "stdout",
     "output_type": "stream",
     "text": [
      "[Taichi] Starting on arch=x64\n"
     ]
    }
   ],
   "source": [
    "import taichi as ti\n",
    "ti.init()\n",
    "\n",
    "@ti.kernel\n",
    "def foo():\n",
    "    for i in range(10):\n",
    "        if i < 4:\n",
    "            print(\"ok\")\n",
    "            print(i)\n",
    "\n",
    "foo()"
   ]
  },
  {
   "cell_type": "code",
   "execution_count": null,
   "metadata": {},
   "outputs": [],
   "source": []
  }
 ],
 "metadata": {
  "kernelspec": {
   "display_name": "mpm_test",
   "language": "python",
   "name": "python3"
  },
  "language_info": {
   "codemirror_mode": {
    "name": "ipython",
    "version": 3
   },
   "file_extension": ".py",
   "mimetype": "text/x-python",
   "name": "python",
   "nbconvert_exporter": "python",
   "pygments_lexer": "ipython3",
   "version": "3.8.18"
  },
  "orig_nbformat": 4
 },
 "nbformat": 4,
 "nbformat_minor": 2
}

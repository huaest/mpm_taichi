{
 "cells": [
  {
   "cell_type": "code",
   "execution_count": 1,
   "metadata": {},
   "outputs": [
    {
     "ename": "ModuleNotFoundError",
     "evalue": "No module named 'fenics'",
     "output_type": "error",
     "traceback": [
      "\u001b[1;31m---------------------------------------------------------------------------\u001b[0m",
      "\u001b[1;31mModuleNotFoundError\u001b[0m                       Traceback (most recent call last)",
      "\u001b[1;32mc:\\Users\\Administrator\\Desktop\\mpm_test\\cfd_final.ipynb 单元格 1\u001b[0m line \u001b[0;36m1\n\u001b[1;32m----> <a href='vscode-notebook-cell:/c%3A/Users/Administrator/Desktop/mpm_test/cfd_final.ipynb#W0sZmlsZQ%3D%3D?line=0'>1</a>\u001b[0m \u001b[39mfrom\u001b[39;00m \u001b[39mfenics\u001b[39;00m \u001b[39mimport\u001b[39;00m \u001b[39m*\u001b[39m\n\u001b[0;32m      <a href='vscode-notebook-cell:/c%3A/Users/Administrator/Desktop/mpm_test/cfd_final.ipynb#W0sZmlsZQ%3D%3D?line=1'>2</a>\u001b[0m \u001b[39mimport\u001b[39;00m \u001b[39mmatplotlib\u001b[39;00m\u001b[39m.\u001b[39;00m\u001b[39mpyplot\u001b[39;00m \u001b[39mas\u001b[39;00m \u001b[39mplt\u001b[39;00m\n\u001b[0;32m      <a href='vscode-notebook-cell:/c%3A/Users/Administrator/Desktop/mpm_test/cfd_final.ipynb#W0sZmlsZQ%3D%3D?line=3'>4</a>\u001b[0m \u001b[39m# 定义网格\u001b[39;00m\n",
      "\u001b[1;31mModuleNotFoundError\u001b[0m: No module named 'fenics'"
     ]
    }
   ],
   "source": [
    "from fenics import *\n",
    "import matplotlib.pyplot as plt\n",
    "\n",
    "# 定义网格\n",
    "nx = ny = 50\n",
    "mesh = RectangleMesh(Point(0, 0), Point(6, 1), nx, ny)\n",
    "\n",
    "plot(mesh, title='Mesh')\n",
    "# 定义函数空间\n",
    "V = VectorFunctionSpace(mesh, 'P', 2)\n",
    "Q = FunctionSpace(mesh, 'P', 1)\n",
    "W = V * Q\n",
    "\n",
    "# 边界条件\n",
    "inflow = 'near(x[0], 0)'\n",
    "outflow = 'near(x[0], 6)'\n",
    "walls = 'near(x[1], 0) || near(x[1], 1)'\n",
    "\n",
    "bcu_inflow = DirichletBC(W.sub(0), Constant((1, 0)), inflow)\n",
    "bcu_walls = DirichletBC(W.sub(0), Constant((0, 0)), walls)\n",
    "bcu = [bcu_inflow, bcu_walls]\n",
    "\n",
    "bcp = DirichletBC(W.sub(1), Constant(0), outflow)\n",
    "bcs = [bcp]\n",
    "\n",
    "# 定义变量和测试函数\n",
    "(u, p) = TrialFunctions(W)\n",
    "(v, q) = TestFunctions(W)\n",
    "\n",
    "# 定义问题\n",
    "f = Constant((0, 0))\n",
    "a = inner(grad(u), grad(v)) * dx - div(v) * p * dx - q * div(u) * dx\n",
    "L = dot(f, v) * dx\n",
    "\n",
    "# 求解\n",
    "w = Function(W)\n",
    "solve(a == L, w, bcs)\n",
    "\n",
    "# 提取速度和压力\n",
    "u, p = w.split()\n",
    "\n",
    "# 绘制结果\n",
    "plt.figure()\n",
    "plot(u, title='Velocity field')\n",
    "\n",
    "plt.figure()\n",
    "plot(p, title='Pressure field')\n",
    "plt.show()\n"
   ]
  },
  {
   "cell_type": "code",
   "execution_count": null,
   "metadata": {},
   "outputs": [],
   "source": []
  }
 ],
 "metadata": {
  "kernelspec": {
   "display_name": "mpm_test",
   "language": "python",
   "name": "python3"
  },
  "language_info": {
   "codemirror_mode": {
    "name": "ipython",
    "version": 3
   },
   "file_extension": ".py",
   "mimetype": "text/x-python",
   "name": "python",
   "nbconvert_exporter": "python",
   "pygments_lexer": "ipython3",
   "version": "3.8.18"
  },
  "orig_nbformat": 4
 },
 "nbformat": 4,
 "nbformat_minor": 2
}
